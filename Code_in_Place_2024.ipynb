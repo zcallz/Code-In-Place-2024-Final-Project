{
  "nbformat": 4,
  "nbformat_minor": 0,
  "metadata": {
    "colab": {
      "provenance": []
    },
    "kernelspec": {
      "name": "python3",
      "display_name": "Python 3"
    },
    "language_info": {
      "name": "python"
    }
  },
  "cells": [
    {
      "cell_type": "code",
      "source": [
        "def get_gpa_from_letter_grade(letter_grade):\n",
        "    # Conversion from letter grade to GPA points\n",
        "    grade_conversion = {\n",
        "        'AA': 4.0,\n",
        "        'AB': 3.7,\n",
        "        'BA': 3.3,\n",
        "        'BB': 3.0,\n",
        "        'BC': 2.7,\n",
        "        'CB': 2.3,\n",
        "        'CC': 2.0,\n",
        "        'CD': 1.7,\n",
        "        'DC': 1.3,\n",
        "        'DD': 1.0,\n",
        "        'FF': 0.0\n",
        "    }\n",
        "    return grade_conversion.get(letter_grade, 0.0)\n",
        "\n",
        "def calculate_new_gpa(old_gpa, old_credits, current_courses):\n",
        "    total_quality_points = old_gpa * old_credits\n",
        "    total_credits = old_credits\n",
        "\n",
        "    for course in current_courses:\n",
        "        course_credits = course['credits']\n",
        "        course_grade = course['grade']\n",
        "        course_gpa = get_gpa_from_letter_grade(course_grade)\n",
        "\n",
        "        total_quality_points += course_gpa * course_credits\n",
        "        total_credits += course_credits\n",
        "\n",
        "    new_gpa = total_quality_points / total_credits\n",
        "    return new_gpa\n",
        "\n",
        "def calculate_required_gpa_for_goal(old_gpa, old_credits, current_credits, target_gpa):\n",
        "    total_quality_points = old_gpa * old_credits\n",
        "    total_credits = old_credits + current_credits\n",
        "\n",
        "    required_quality_points = target_gpa * total_credits\n",
        "    required_gpa_this_semester = (required_quality_points - total_quality_points) / current_credits\n",
        "\n",
        "    return required_gpa_this_semester\n",
        "\n",
        "def main():\n",
        "    # Old GPA and credits\n",
        "    old_gpa = float(input(\"Enter your old GPA: \"))\n",
        "    old_credits = int(input(\"Enter your old cumulative credits: \"))\n",
        "\n",
        "    # Current semester courses\n",
        "    num_courses = int(input(\"How many courses did you take this semester? \"))\n",
        "    current_courses = []\n",
        "\n",
        "    for i in range(num_courses):\n",
        "        course_credits = int(input(f\"Enter the credits for course {i+1}: \"))\n",
        "        course_grade = input(f\"Enter the letter grade for course {i+1} (e.g., AA, BA, CD): \").strip().upper()\n",
        "        current_courses.append({'credits': course_credits, 'grade': course_grade})\n",
        "\n",
        "    # Calculate new GPA\n",
        "    new_gpa = calculate_new_gpa(old_gpa, old_credits, current_courses)\n",
        "\n",
        "    print(f\"Your current GPA is: {new_gpa:.2f}\")\n",
        "\n",
        "    # Option to calculate the GPA needed to reach a target GPA\n",
        "    option = input(\"Do you want to calculate the GPA needed to reach a target GPA (enter 'yes' or 'no')? \").strip().lower()\n",
        "\n",
        "    if option == 'yes':\n",
        "        # Target GPA\n",
        "        target_gpa = float(input(\"Enter your target GPA: \"))\n",
        "        num_courses = int(input(\"How many courses are you planning to take next semester? \"))\n",
        "        current_credits = 0\n",
        "\n",
        "        for i in range(num_courses):\n",
        "            course_credits = int(input(f\"Enter the credits for course {i+1}: \"))\n",
        "            current_credits += course_credits\n",
        "\n",
        "        # Calculate required GPA for this semester to reach target GPA\n",
        "        required_gpa_this_semester = calculate_required_gpa_for_goal(new_gpa, old_credits + sum(course['credits'] for course in current_courses), current_credits, target_gpa)\n",
        "\n",
        "        print(f\"To achieve a GPA of {target_gpa:.2f}, you need an average GPA of {required_gpa_this_semester:.2f} for your next semester courses.\")\n",
        "    else:\n",
        "        print(\"No target GPA calculation requested.\")\n",
        "\n",
        "if __name__ == \"__main__\":\n",
        "    main()\n"
      ],
      "metadata": {
        "colab": {
          "base_uri": "https://localhost:8080/"
        },
        "id": "hArXX8kbBAOo",
        "outputId": "1f9c01ec-c381-4434-a615-217e171b6559"
      },
      "execution_count": 2,
      "outputs": [
        {
          "output_type": "stream",
          "name": "stdout",
          "text": [
            "Enter your old GPA: 2.87\n",
            "Enter your old cumulative credits: 45\n",
            "How many courses did you take this semester? 5\n",
            "Enter the credits for course 1: 4\n",
            "Enter the letter grade for course 1 (e.g., AA, BA, CD): AA\n",
            "Enter the credits for course 2: 3\n",
            "Enter the letter grade for course 2 (e.g., AA, BA, CD): AA\n",
            "Enter the credits for course 3: 4\n",
            "Enter the letter grade for course 3 (e.g., AA, BA, CD): BC\n",
            "Enter the credits for course 4: 3\n",
            "Enter the letter grade for course 4 (e.g., AA, BA, CD): CC\n",
            "Enter the credits for course 5: 3\n",
            "Enter the letter grade for course 5 (e.g., AA, BA, CD): DC\n",
            "Your current GPA is: 2.87\n",
            "Do you want to calculate the GPA needed to reach a target GPA (enter 'yes' or 'no')? no\n",
            "No target GPA calculation requested.\n"
          ]
        }
      ]
    }
  ]
}